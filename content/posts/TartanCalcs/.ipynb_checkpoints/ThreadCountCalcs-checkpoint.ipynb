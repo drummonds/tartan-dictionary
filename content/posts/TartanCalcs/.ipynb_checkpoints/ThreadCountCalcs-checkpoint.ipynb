{
 "cells": [
  {
   "cell_type": "markdown",
   "id": "16b15fe7-b3e0-4d51-8dff-a86ba01f7028",
   "metadata": {},
   "source": [
    "```\n",
    "title: \"Drummond of Megginch Tartan thread counts\"\n",
    "date: 2022-06-10\n",
    "tags: [\"humphrey\",\"jupyter\"]\n",
    "```"
   ]
  },
  {
   "cell_type": "markdown",
   "id": "eea87ea8-b19f-45d4-a78e-49648e23514a",
   "metadata": {},
   "source": [
    "# Given thread counts produce table\n",
    "Wait for this to come out\n"
   ]
  },
  {
   "cell_type": "code",
   "execution_count": 2,
   "id": "12b6e9c0-fe5b-4780-9594-049c8ad5928f",
   "metadata": {},
   "outputs": [],
   "source": [
    "test = \"R14 DB2 R4 DB4 R70 LB4 R4 DB20 R4 G4 R4 G74 R6 DB4 R12\"\n",
    "\n",
    "    "
   ]
  },
  {
   "cell_type": "code",
   "execution_count": 18,
   "id": "ac4c9cde-7620-47d7-a087-00bf74159849",
   "metadata": {},
   "outputs": [
    {
     "name": "stdout",
     "output_type": "stream",
     "text": [
      "Pattern = R14 DB2 R4 DB4 R70 LB4 R4 DB20 R4 G4 R4 G74 R6 DB4 R12 \n",
      "Num threads = 230\n"
     ]
    }
   ],
   "source": [
    "import re\n",
    "\n",
    "PATTERN = re.compile(\"([a-zA-Z]*)(\\d*)\")\n",
    "\n",
    "def split_thread(threadcount):\n",
    "    \"\"\"Given a thread count such as R14, will split to R and integer 14\"\"\"\n",
    "    match = re.search(PATTERN, threadcount)\n",
    "    if match:\n",
    "        return match.group(1),match.group(2)\n",
    "    return threadcount,\"\"\n",
    "    \n",
    "\n",
    "class Stripe:\n",
    "    def __init__(self, short_colour, count):\n",
    "        self.short_colour = short_colour\n",
    "        self.count = int(count)\n",
    "\n",
    "    def __str__(self):\n",
    "        return f\"{self.short_colour}{self.count}\"\n",
    "\n",
    "class Tartan:\n",
    "    def __init__(self):\n",
    "        self.stripes = []\n",
    "        \n",
    "    @classmethod\n",
    "    def from_space_threadcount(cls, threadcount):\n",
    "        tartan = cls()\n",
    "        threads = threadcount.split(\" \")\n",
    "        for thread in threads:\n",
    "            colour,count = split_thread(thread)\n",
    "            tartan.stripes.append(Stripe(colour, count))\n",
    "        return tartan\n",
    "\n",
    "    def __str__(self):\n",
    "        s= \"\"\n",
    "        for stripe in self.stripes:\n",
    "            s += f\"{stripe} \"\n",
    "        return s\n",
    "\n",
    "    @property\n",
    "    def threadcount(self):\n",
    "        tc = 0\n",
    "        for stripe in self.stripes:\n",
    "            tc += stripe.count\n",
    "        return tc\n",
    "\n",
    "a = Tartan.from_space_threadcount(test)\n",
    "print(f\"Pattern = {a}\")\n",
    "print(f\"Num threads = {a.threadcount}\")"
   ]
  },
  {
   "cell_type": "code",
   "execution_count": null,
   "id": "a48ea9cd-7863-40d1-850e-39d645d17820",
   "metadata": {},
   "outputs": [],
   "source": []
  }
 ],
 "metadata": {
  "kernelspec": {
   "display_name": "Python 3 (ipykernel)",
   "language": "python",
   "name": "python3"
  },
  "language_info": {
   "codemirror_mode": {
    "name": "ipython",
    "version": 3
   },
   "file_extension": ".py",
   "mimetype": "text/x-python",
   "name": "python",
   "nbconvert_exporter": "python",
   "pygments_lexer": "ipython3",
   "version": "3.8.10"
  }
 },
 "nbformat": 4,
 "nbformat_minor": 5
}
